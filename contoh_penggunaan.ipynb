{
 "cells": [
  {
   "cell_type": "markdown",
   "metadata": {},
   "source": [
    "# Contoh penggunaan `morph_analyzer.py`\n",
    "\n",
    "Pakej yang diperlukan: `pyspellchecker` (Dapatkan di https://pypi.org/project/pyspellchecker/ jika tidak termasuk dalam sistem anda.)\n",
    "\n",
    "(Required package: `pyspellchecker` (Download from https://pypi.org/project/pyspellchecker/ if your system does not have it.))"
   ]
  },
  {
   "cell_type": "code",
   "execution_count": 23,
   "metadata": {},
   "outputs": [
    {
     "name": "stdout",
     "output_type": "stream",
     "text": [
      "Requirement already satisfied: pyspellchecker in c:\\users\\acer\\appdata\\local\\programs\\python\\python39\\lib\\site-packages (0.7.0)Note: you may need to restart the kernel to use updated packages.\n",
      "\n"
     ]
    },
    {
     "name": "stderr",
     "output_type": "stream",
     "text": [
      "WARNING: You are using pip version 20.2.1; however, version 22.3 is available.\n",
      "You should consider upgrading via the 'c:\\Users\\ACER\\AppData\\Local\\Programs\\Python\\Python39\\python.exe -m pip install --upgrade pip' command.\n"
     ]
    }
   ],
   "source": [
    "pip install pyspellchecker"
   ]
  },
  {
   "cell_type": "code",
   "execution_count": 37,
   "metadata": {},
   "outputs": [
    {
     "name": "stdout",
     "output_type": "stream",
     "text": [
      "^C\n",
      "Note: you may need to restart the kernel to use updated packages.\n"
     ]
    }
   ],
   "source": [
    "pip install nlp-id"
   ]
  },
  {
   "cell_type": "code",
   "execution_count": 2,
   "metadata": {},
   "outputs": [],
   "source": [
    "# from spellchecker import SpellChecker\n",
    "import pickle \n",
    "with open(\"rootlist.pkl\", \"rb\") as f:\n",
    "    rootlist = pickle.load(f)\n",
    "import morph_analyzer as ma"
   ]
  },
  {
   "cell_type": "markdown",
   "metadata": {},
   "source": [
    "## Tanpa kamus MALINDO Morph\n",
    "\n",
    "(Without the MALINDO Morph dictionary)"
   ]
  },
  {
   "cell_type": "code",
   "execution_count": 11,
   "metadata": {},
   "outputs": [
    {
     "data": {
      "text/plain": [
       "{('kait', 'keberkaitananlah', '0', '-lah', 'ber--an+ke--an', '0'),\n",
       " ('kait', 'keberkaitananlah', 'ber-', '-an+-lah', 'ke--an', '0'),\n",
       " ('kait', 'keberkaitananlah', 'ke-', '-an+-lah', 'ber--an', '0')}"
      ]
     },
     "execution_count": 11,
     "metadata": {},
     "output_type": "execute_result"
    }
   ],
   "source": [
    "ma.morph(\"keberkaitananlah\", rootlist)"
   ]
  },
  {
   "cell_type": "markdown",
   "metadata": {},
   "source": [
    "### Parameter `Indo`\n",
    "\n",
    "Parameter `Indo` mengaktifkan awalan _N-_ (cth. _N-_ + _kopi_ = _ngopi_).\n",
    "\n",
    "(The `Indo` parameter activates the prefix _N-_ (e.g. _N-_ + _kopi_ = _ngopi_).)"
   ]
  },
  {
   "cell_type": "code",
   "execution_count": 12,
   "metadata": {},
   "outputs": [
    {
     "data": {
      "text/plain": [
       "{('nyampa', 'nyampai', '0', '-i', '0', '0')}"
      ]
     },
     "execution_count": 12,
     "metadata": {},
     "output_type": "execute_result"
    }
   ],
   "source": [
    "ma.morph(\"nyampai\", rootlist)"
   ]
  },
  {
   "cell_type": "code",
   "execution_count": 13,
   "metadata": {},
   "outputs": [
    {
     "data": {
      "text/plain": [
       "{('campa', 'nyampai', 'N-', '-i', '0', '0'),\n",
       " ('sampai', 'nyampai', 'N-', '0', '0', '0')}"
      ]
     },
     "execution_count": 13,
     "metadata": {},
     "output_type": "execute_result"
    }
   ],
   "source": [
    "ma.morph(\"nyampai\", rootlist, Indo=True)"
   ]
  },
  {
   "cell_type": "markdown",
   "metadata": {},
   "source": [
    "### Parameter `n`\n",
    "\n",
    "Parameter `n` mengawal jumlah calon yang dihasilkan.  Nilai lalainya ialah 5.\n",
    "\n",
    "(The `n` parameter controls the number of the candidates to be produced.  The default value is 5.)"
   ]
  },
  {
   "cell_type": "code",
   "execution_count": 14,
   "metadata": {},
   "outputs": [
    {
     "data": {
      "text/plain": [
       "{('bibkah', 'mengebibkah', 'ke-+meN-', '0', '0', '0'),\n",
       " ('ebib', 'mengebibkah', 'meN-', '-kah', '0', '0'),\n",
       " ('ebibkah', 'mengebibkah', 'meN-', '0', '0', '0'),\n",
       " ('kebib', 'mengebibkah', 'meN-', '-kah', '0', '0'),\n",
       " ('ngebib', 'mengebibkah', 'meN-', '-kah', '0', '0')}"
      ]
     },
     "execution_count": 14,
     "metadata": {},
     "output_type": "execute_result"
    }
   ],
   "source": [
    "ma.morph(\"mengebibkah\", rootlist)"
   ]
  },
  {
   "cell_type": "code",
   "execution_count": 15,
   "metadata": {},
   "outputs": [
    {
     "data": {
      "text/plain": [
       "{('bib', 'mengebibkah', 'meN-', '-kah', '0', '0'),\n",
       " ('bibkah', 'mengebibkah', 'ke-+meN-', '0', '0', '0'),\n",
       " ('ebib', 'mengebibkah', 'meN-', '-kah', '0', '0'),\n",
       " ('ebibkah', 'mengebibkah', 'meN-', '0', '0', '0'),\n",
       " ('kebib', 'mengebibkah', 'meN-', '-kah', '0', '0'),\n",
       " ('kebibkah', 'mengebibkah', 'meN-', '0', '0', '0'),\n",
       " ('mengebib', 'mengebibkah', '0', '-kah', '0', '0'),\n",
       " ('mengebibkah', 'mengebibkah', '0', '0', '0', '0'),\n",
       " ('ngebib', 'mengebibkah', 'meN-', '-kah', '0', '0'),\n",
       " ('ngebibkah', 'mengebibkah', 'meN-', '0', '0', '0')}"
      ]
     },
     "execution_count": 15,
     "metadata": {},
     "output_type": "execute_result"
    }
   ],
   "source": [
    "ma.morph(\"mengebibkah\", rootlist, n=15)"
   ]
  },
  {
   "cell_type": "markdown",
   "metadata": {},
   "source": [
    "## Bersama dengan kamus MALINDO Morph\n",
    "\n",
    "Walaupun `morph_analzser.py` boleh digunakan secara sendirian, adalah lebih realistik untuk menggunakannya bersama dengan kamus MALINDO Morph yang (kebanyakan) analisis morfologinya sudah diperiksa oleh manusia.  Dalam contoh kod di bawah, `morph_analyzer.py` digunakan hanya apabila perkataan yang ingin dianalisis tidak termasuk dalam kamus MALINDO Morph.\n",
    "\n",
    "(With the MALINDO Morph dictionary  \n",
    "Although `morph_analyzer.py` can be used by itself, it is more realistic to use it with the MALINDO Morph dictionary in which most of the morphological analyses have been examined manually.  In the code below, `morph_analyzer.py` is used only when the word to be analysed is not found in the MALINDO Morph dictionary.)"
   ]
  },
  {
   "cell_type": "code",
   "execution_count": 3,
   "metadata": {},
   "outputs": [],
   "source": [
    "# Buat kamus daripada MALINDO Morph\n",
    "with open(\"malindo_dic_20200917.tsv\", \"r\", encoding=\"utf-8\") as f: #Gunakan versi terkini MALINDO Moprh\n",
    "    katakata = []\n",
    "    for l in f:\n",
    "        items = l.strip().split(\"\\t\")\n",
    "        if not items[0].startswith(\"ex-\"): #bahagian yg sudah diperiksa manusia sahaja\n",
    "            katakata.append(tuple(items[1:7])) #tanpa ID, sumber, dasar, lema \n",
    "\n",
    "kamus = dict()\n",
    "for kata in katakata:\n",
    "    surface = kata[1]\n",
    "    if not surface in kamus.keys():\n",
    "        kamus[surface] = []\n",
    "    kamus[surface].append(kata)"
   ]
  },
  {
   "cell_type": "code",
   "execution_count": 63,
   "metadata": {},
   "outputs": [],
   "source": [
    "def analisis(w, Indo=True, n=5):\n",
    "    try:\n",
    "        return kamus[w][:n]\n",
    "    except:\n",
    "        return list(ma.morph(w, rootlist, Indo, n))"
   ]
  },
  {
   "cell_type": "markdown",
   "metadata": {},
   "source": [
    "### Perkataan yang ada dalam kamus MALINDO Morph\n",
    "\n",
    "(Words available in the MALINDO Morph dictionary)"
   ]
  },
  {
   "cell_type": "code",
   "execution_count": 64,
   "metadata": {},
   "outputs": [],
   "source": [
    "KJ = \"Flowchart adalah bagan yang menunjukkan arus pekerjaan secara keseluruhan dari sistem\"\n",
    "jawaban = \"Bagan yang menunjukkan alur menyeluruh kerja sistem\""
   ]
  },
  {
   "cell_type": "code",
   "execution_count": 65,
   "metadata": {},
   "outputs": [
    {
     "name": "stdout",
     "output_type": "stream",
     "text": [
      "flowchart adalah bagan yang menunjukkan arus pekerjaan secara keseluruhan dari sistem\n",
      "bagan yang menunjukkan alur menyeluruh kerja sistem\n"
     ]
    }
   ],
   "source": [
    "lower_kj = KJ.lower()\n",
    "lower_js = jawaban.lower()\n",
    "print(lower_kj)\n",
    "print(lower_js)"
   ]
  },
  {
   "cell_type": "code",
   "execution_count": 66,
   "metadata": {},
   "outputs": [
    {
     "name": "stdout",
     "output_type": "stream",
     "text": [
      "['flowchart', 'adalah', 'bagan', 'yang', 'menunjukkan', 'arus', 'pekerjaan', 'secara', 'keseluruhan', 'dari', 'sistem']\n",
      "['bagan', 'yang', 'menunjukkan', 'alur', 'menyeluruh', 'kerja', 'sistem']\n"
     ]
    }
   ],
   "source": [
    "token1 = lower_kj.split()\n",
    "token2 = lower_js.split()\n",
    "print(token1)\n",
    "print(token2)"
   ]
  },
  {
   "cell_type": "code",
   "execution_count": 119,
   "metadata": {},
   "outputs": [
    {
     "name": "stdout",
     "output_type": "stream",
     "text": [
      "Hasil lemma :  ['flowchart', 'ada', 'bagan', 'yang', 'tunjuk', 'arus', 'kerja', 'cara', 'seluruh', 'dari', 'sistem']\n"
     ]
    }
   ],
   "source": [
    "lemma = []\n",
    "hasil_lemma = []\n",
    "for token in token1 :\n",
    "    lemma = analisis(token)\n",
    "    # print(lemma)\n",
    "    # print(lemma[0][0])\n",
    "    hasil_lemma.append(lemma[0][0])\n",
    "print(\"Hasil lemma : \", hasil_lemma)"
   ]
  },
  {
   "cell_type": "code",
   "execution_count": 32,
   "metadata": {},
   "outputs": [
    {
     "data": {
      "text/plain": [
       "[('seluruh', 'keseluruhan', '0', '0', 'ke--an', '0')]"
      ]
     },
     "execution_count": 32,
     "metadata": {},
     "output_type": "execute_result"
    }
   ],
   "source": [
    "analisis(\"keseluruhan\")"
   ]
  },
  {
   "cell_type": "code",
   "execution_count": 19,
   "metadata": {},
   "outputs": [
    {
     "data": {
      "text/plain": [
       "[('mereka', 'mereka', '0', '0', '0', '0'),\n",
       " ('reka', 'mereka', 'meN-', '0', '0', '0')]"
      ]
     },
     "execution_count": 19,
     "metadata": {},
     "output_type": "execute_result"
    }
   ],
   "source": [
    "analisis(\"mereka\")"
   ]
  },
  {
   "cell_type": "code",
   "execution_count": 20,
   "metadata": {},
   "outputs": [
    {
     "data": {
      "text/plain": [
       "[('mereka', 'mereka', '0', '0', '0', '0')]"
      ]
     },
     "execution_count": 20,
     "metadata": {},
     "output_type": "execute_result"
    }
   ],
   "source": [
    "analisis(\"mereka\", n=1)"
   ]
  },
  {
   "cell_type": "markdown",
   "metadata": {},
   "source": [
    "### Perkataan yang tidak ada dalam kamus MALINDO Morph\n",
    "\n",
    "(Words unavailable in the MALINDO Morph dictionary)"
   ]
  },
  {
   "cell_type": "code",
   "execution_count": 21,
   "metadata": {},
   "outputs": [
    {
     "data": {
      "text/plain": [
       "[('ngepob', 'mengepobkan', 'meN-', '-kan', '0', '0'),\n",
       " ('pobkan', 'mengepobkan', 'ke-+meN-', '0', '0', '0'),\n",
       " ('epob', 'mengepobkan', 'meN-', '-kan', '0', '0'),\n",
       " ('epobk', 'mengepobkan', 'meN-', '-an', '0', '0'),\n",
       " ('kepob', 'mengepobkan', 'meN-', '-kan', '0', '0')]"
      ]
     },
     "execution_count": 21,
     "metadata": {},
     "output_type": "execute_result"
    }
   ],
   "source": [
    "analisis(\"mengepobkan\")"
   ]
  },
  {
   "cell_type": "code",
   "execution_count": 22,
   "metadata": {},
   "outputs": [
    {
     "data": {
      "text/plain": [
       "[('epobk', 'mengepobkan', 'meN-', '-an', '0', '0'),\n",
       " ('kepob', 'mengepobkan', 'meN-', '-kan', '0', '0'),\n",
       " ('epob', 'mengepobkan', 'meN-', '-kan', '0', '0')]"
      ]
     },
     "execution_count": 22,
     "metadata": {},
     "output_type": "execute_result"
    }
   ],
   "source": [
    "analisis(\"mengepobkan\", n=3)"
   ]
  },
  {
   "cell_type": "code",
   "execution_count": 23,
   "metadata": {},
   "outputs": [
    {
     "data": {
      "text/plain": [
       "[('terjadi berulang-ulang', 'terjadi berulang-ulang', '0', '0', '0', '0')]"
      ]
     },
     "execution_count": 23,
     "metadata": {},
     "output_type": "execute_result"
    }
   ],
   "source": [
    "analisis(\"terjadi berulang-ulang\")"
   ]
  }
 ],
 "metadata": {
  "kernelspec": {
   "display_name": "Python 3.9.0rc2 64-bit",
   "language": "python",
   "name": "python3"
  },
  "language_info": {
   "codemirror_mode": {
    "name": "ipython",
    "version": 3
   },
   "file_extension": ".py",
   "mimetype": "text/x-python",
   "name": "python",
   "nbconvert_exporter": "python",
   "pygments_lexer": "ipython3",
   "version": "3.9.0rc2"
  },
  "vscode": {
   "interpreter": {
    "hash": "50c5c2b6e05db9fe8b3433ad8e6dc52eedfaade324407e06c6799762d580ed33"
   }
  }
 },
 "nbformat": 4,
 "nbformat_minor": 4
}
