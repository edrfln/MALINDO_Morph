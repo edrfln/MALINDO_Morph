{
 "cells": [
  {
   "cell_type": "markdown",
   "metadata": {},
   "source": [
    "### Teks Preprocessing"
   ]
  },
  {
   "cell_type": "code",
   "execution_count": 2,
   "metadata": {},
   "outputs": [],
   "source": [
    "KJ = \"Mouse merupakan perangkat keras komputer yang berfungsi sebagai pengendali kursor pada tampilan GUI (Graphical User Interface) untuk memberikan masukan atau input berupa gerakan kursor, menekan tombol (click)  dan menaik-turunkan tampilan layar (scroll). Mouse ada yang menggunakan kabel dan tidak (wireless). Dalam bahasa Indonesia mouse bisa diartikan sebagai “tetikus” dikarenakan bentuk dari mouse itu sendiri menyerupai tikus kecil dengan bagian badan yang menggembung.\"\n",
    "jawaban = \"Mouse komputer adalah perangkat input yang berfungsi untuk mengontrol kursor dalam GUI (antarmuka pengguna grafis) seperti mengarahkan, memindahkan, dan memilih teks, ikon, file, dan folder di layar monitor anda\""
   ]
  },
  {
   "cell_type": "markdown",
   "metadata": {},
   "source": [
    "#### Stemming"
   ]
  },
  {
   "cell_type": "markdown",
   "metadata": {},
   "source": [
    "##### Case Folding"
   ]
  },
  {
   "cell_type": "code",
   "execution_count": 3,
   "metadata": {},
   "outputs": [],
   "source": [
    "def case_fold(sentence):\n",
    "    return sentence.lower()"
   ]
  },
  {
   "cell_type": "code",
   "execution_count": 4,
   "metadata": {},
   "outputs": [
    {
     "name": "stdout",
     "output_type": "stream",
     "text": [
      "mouse merupakan perangkat keras komputer yang berfungsi sebagai pengendali kursor pada tampilan gui (graphical user interface) untuk memberikan masukan atau input berupa gerakan kursor, menekan tombol (click)  dan menaik-turunkan tampilan layar (scroll). mouse ada yang menggunakan kabel dan tidak (wireless). dalam bahasa indonesia mouse bisa diartikan sebagai “tetikus” dikarenakan bentuk dari mouse itu sendiri menyerupai tikus kecil dengan bagian badan yang menggembung.\n",
      "mouse komputer adalah perangkat input yang berfungsi untuk mengontrol kursor dalam gui (antarmuka pengguna grafis) seperti mengarahkan, memindahkan, dan memilih teks, ikon, file, dan folder di layar monitor anda\n"
     ]
    }
   ],
   "source": [
    "case_foldKJ = case_fold(KJ)\n",
    "case_foldJS = case_fold(jawaban)\n",
    "\n",
    "print(case_fold(KJ))\n",
    "print(case_fold(jawaban))\n"
   ]
  },
  {
   "cell_type": "markdown",
   "metadata": {},
   "source": [
    "##### Tokenizing"
   ]
  },
  {
   "cell_type": "code",
   "execution_count": 5,
   "metadata": {},
   "outputs": [],
   "source": [
    "import re\n",
    "import string\n",
    "import nltk\n",
    "from Sastrawi.StopWordRemover.StopWordRemoverFactory import StopWordRemoverFactory, StopWordRemover, ArrayDictionary\n",
    "from nltk.tokenize import word_tokenize\n",
    "from nltk.tokenize import sent_tokenize\n",
    "\n",
    "def tokenize(sentence):\n",
    "    #deleting number on sentence\n",
    "    del_num = re.sub(r\"\\d+\", \"\", sentence)\n",
    "    \n",
    "    #deleting punctuation\n",
    "    punct = del_num.translate(str.maketrans(\"\",\"\",string.punctuation))\n",
    "\n",
    "    #deleting whitepace(s)\n",
    "    del_whtspc = punct.strip()\n",
    "\n",
    "    tokens = del_whtspc.split()\n",
    "\n",
    "    return tokens\n",
    "    "
   ]
  },
  {
   "cell_type": "code",
   "execution_count": 6,
   "metadata": {},
   "outputs": [
    {
     "name": "stdout",
     "output_type": "stream",
     "text": [
      "['mouse', 'merupakan', 'perangkat', 'keras', 'komputer', 'yang', 'berfungsi', 'sebagai', 'pengendali', 'kursor', 'pada', 'tampilan', 'gui', 'graphical', 'user', 'interface', 'untuk', 'memberikan', 'masukan', 'atau', 'input', 'berupa', 'gerakan', 'kursor', 'menekan', 'tombol', 'click', 'dan', 'menaikturunkan', 'tampilan', 'layar', 'scroll', 'mouse', 'ada', 'yang', 'menggunakan', 'kabel', 'dan', 'tidak', 'wireless', 'dalam', 'bahasa', 'indonesia', 'mouse', 'bisa', 'diartikan', 'sebagai', '“tetikus”', 'dikarenakan', 'bentuk', 'dari', 'mouse', 'itu', 'sendiri', 'menyerupai', 'tikus', 'kecil', 'dengan', 'bagian', 'badan', 'yang', 'menggembung']\n",
      "['mouse', 'komputer', 'adalah', 'perangkat', 'input', 'yang', 'berfungsi', 'untuk', 'mengontrol', 'kursor', 'dalam', 'gui', 'antarmuka', 'pengguna', 'grafis', 'seperti', 'mengarahkan', 'memindahkan', 'dan', 'memilih', 'teks', 'ikon', 'file', 'dan', 'folder', 'di', 'layar', 'monitor', 'anda']\n"
     ]
    }
   ],
   "source": [
    "tokenized_kj = tokenize(case_foldKJ)\n",
    "tokenized_js = tokenize(case_foldJS)\n",
    "\n",
    "print(tokenized_kj)\n",
    "print(tokenized_js)"
   ]
  },
  {
   "cell_type": "markdown",
   "metadata": {},
   "source": [
    "##### Stopword removal"
   ]
  },
  {
   "cell_type": "code",
   "execution_count": 7,
   "metadata": {},
   "outputs": [],
   "source": [
    "from Sastrawi.StopWordRemover.StopWordRemoverFactory import StopWordRemoverFactory, StopWordRemover, ArrayDictionary\n",
    "from nltk.tokenize import word_tokenize \n",
    "from nltk.corpus import stopwords\n",
    "from nltk.tokenize import word_tokenize\n",
    "\n",
    "def stopword_removal(sentence):\n",
    "    # stop_factory = StopWordRemoverFactory().get_stop_words() #load defaul stopword\n",
    "    # more_stopword = [] #add stopword\n",
    "\n",
    "    # data = stop_factory + more_stopword #menggabungkan stopword\n",
    "    \n",
    "    # dictionary = ArrayDictionary(data)\n",
    "    # str = StopWordRemover(dictionary)\n",
    "\n",
    "    stop_words = set(stopwords.words('indonesian'))\n",
    "\n",
    "    word_tokens_no_stopwords = [w for w in sentence if not w in stop_words]\n",
    "    \n",
    "    return word_tokens_no_stopwords"
   ]
  },
  {
   "cell_type": "code",
   "execution_count": 8,
   "metadata": {},
   "outputs": [
    {
     "name": "stdout",
     "output_type": "stream",
     "text": [
      "Before filtering :  ['mouse', 'merupakan', 'perangkat', 'keras', 'komputer', 'yang', 'berfungsi', 'sebagai', 'pengendali', 'kursor', 'pada', 'tampilan', 'gui', 'graphical', 'user', 'interface', 'untuk', 'memberikan', 'masukan', 'atau', 'input', 'berupa', 'gerakan', 'kursor', 'menekan', 'tombol', 'click', 'dan', 'menaikturunkan', 'tampilan', 'layar', 'scroll', 'mouse', 'ada', 'yang', 'menggunakan', 'kabel', 'dan', 'tidak', 'wireless', 'dalam', 'bahasa', 'indonesia', 'mouse', 'bisa', 'diartikan', 'sebagai', '“tetikus”', 'dikarenakan', 'bentuk', 'dari', 'mouse', 'itu', 'sendiri', 'menyerupai', 'tikus', 'kecil', 'dengan', 'bagian', 'badan', 'yang', 'menggembung']\n",
      "Afer filtering :  ['mouse', 'perangkat', 'keras', 'komputer', 'berfungsi', 'pengendali', 'kursor', 'tampilan', 'gui', 'graphical', 'user', 'interface', 'masukan', 'input', 'gerakan', 'kursor', 'menekan', 'tombol', 'click', 'menaikturunkan', 'tampilan', 'layar', 'scroll', 'mouse', 'kabel', 'wireless', 'bahasa', 'indonesia', 'mouse', 'diartikan', '“tetikus”', 'bentuk', 'mouse', 'menyerupai', 'tikus', 'badan', 'menggembung']\n",
      "\n",
      "\n",
      "Before filtering :  ['mouse', 'komputer', 'adalah', 'perangkat', 'input', 'yang', 'berfungsi', 'untuk', 'mengontrol', 'kursor', 'dalam', 'gui', 'antarmuka', 'pengguna', 'grafis', 'seperti', 'mengarahkan', 'memindahkan', 'dan', 'memilih', 'teks', 'ikon', 'file', 'dan', 'folder', 'di', 'layar', 'monitor', 'anda']\n",
      "Afer filtering :  ['mouse', 'komputer', 'perangkat', 'input', 'berfungsi', 'mengontrol', 'kursor', 'gui', 'antarmuka', 'pengguna', 'grafis', 'mengarahkan', 'memindahkan', 'memilih', 'teks', 'ikon', 'file', 'folder', 'layar', 'monitor']\n"
     ]
    }
   ],
   "source": [
    "filterKJ = stopword_removal(tokenized_kj)\n",
    "filterJS = stopword_removal(tokenized_js)\n",
    "\n",
    "print(\"Before filtering : \", tokenized_kj)\n",
    "print(\"Afer filtering : \", filterKJ)\n",
    "print(\"\\n\")\n",
    "\n",
    "print(\"Before filtering : \", tokenized_js)\n",
    "print(\"Afer filtering : \", filterJS)"
   ]
  },
  {
   "cell_type": "markdown",
   "metadata": {},
   "source": [
    "##### Stemming"
   ]
  },
  {
   "cell_type": "code",
   "execution_count": 9,
   "metadata": {},
   "outputs": [],
   "source": [
    "# import StemmerFactory class\n",
    "from Sastrawi.Stemmer.StemmerFactory import StemmerFactory\n",
    "\n",
    "def stemmer(word):\n",
    "    # create stemmer\n",
    "    factory = StemmerFactory()\n",
    "    stemmer = factory.create_stemmer()\n",
    "\n",
    "    # stemming process\n",
    "    output   = stemmer.stem(word)\n",
    "\n",
    "    return output"
   ]
  },
  {
   "cell_type": "code",
   "execution_count": 10,
   "metadata": {},
   "outputs": [
    {
     "name": "stdout",
     "output_type": "stream",
     "text": [
      "Hasil Stem Kunci Jawaban :  ['mouse', 'perangkat', 'keras', 'komputer', 'fungsi', 'kendali', 'kursor', 'tampil', 'gui', 'graphical', 'user', 'interface', 'masuk', 'input', 'gera', 'kursor', 'tekan', 'tombol', 'click', 'menaikturunkan', 'tampil', 'layar', 'scroll', 'mouse', 'kabel', 'wireless', 'bahasa', 'indonesia', 'mouse', 'arti', 'tetikus', 'bentuk', 'mouse', 'rupa', 'tikus', 'badan', 'gembung']\n",
      "Hasil Stem Jawaban Siswa :  ['mouse', 'komputer', 'perangkat', 'input', 'fungsi', 'kontrol', 'kursor', 'gui', 'antarmuka', 'guna', 'grafis', 'arah', 'pindah', 'pilih', 'teks', 'ikon', 'file', 'folder', 'layar', 'monitor']\n"
     ]
    }
   ],
   "source": [
    "hasil_stemKJ = []\n",
    "for i in filterKJ:\n",
    "    stem = stemmer(i)\n",
    "    hasil_stemKJ.append(stem)\n",
    "print(\"Hasil Stem Kunci Jawaban : \", hasil_stemKJ)\n",
    "\n",
    "hasil_stemJS = []\n",
    "for i in filterJS:\n",
    "    stem = stemmer(i)\n",
    "    hasil_stemJS.append(stem)\n",
    "print(\"Hasil Stem Jawaban Siswa : \", hasil_stemJS)"
   ]
  },
  {
   "cell_type": "markdown",
   "metadata": {},
   "source": [
    "#### Lemmatization"
   ]
  },
  {
   "cell_type": "code",
   "execution_count": 11,
   "metadata": {},
   "outputs": [],
   "source": [
    "# from spellchecker import SpellChecker\n",
    "import pickle \n",
    "with open(\"rootlist.pkl\", \"rb\") as f:\n",
    "    rootlist = pickle.load(f)\n",
    "import morph_analyzer as ma\n",
    "\n",
    "# Buat kamus daripada MALINDO Morph\n",
    "with open(\"malindo_dic_20200917.tsv\", \"r\", encoding=\"utf-8\") as f: #Gunakan versi terkini MALINDO Moprh\n",
    "    katakata = []\n",
    "    for l in f:\n",
    "        items = l.strip().split(\"\\t\")\n",
    "        if not items[0].startswith(\"ex-\"): #bahagian yg sudah diperiksa manusia sahaja\n",
    "            katakata.append(tuple(items[1:7])) #tanpa ID, sumber, dasar, lema \n",
    "\n",
    "kamus = dict()\n",
    "for kata in katakata:\n",
    "    surface = kata[1]\n",
    "    if not surface in kamus.keys():\n",
    "        kamus[surface] = []\n",
    "    kamus[surface].append(kata)\n",
    "\n",
    "def analisis(w, Indo=True, n=5):\n",
    "    try:\n",
    "        return kamus[w][:n]\n",
    "    except:\n",
    "        return list(ma.morph(w, rootlist, Indo, n))"
   ]
  },
  {
   "cell_type": "code",
   "execution_count": 12,
   "metadata": {},
   "outputs": [
    {
     "name": "stdout",
     "output_type": "stream",
     "text": [
      "Hasil lemma Kunci Jawaban :  ['mouse', 'perangkat', 'keras', 'komputer', 'fungsi', 'kendali', 'kursor', 'tampil', 'gui', 'graphical', 'user', 'interface', 'masuk', 'input', 'gerak', 'kursor', 'tekan', 'tombol', 'click', 'naik turun', 'tampil', 'layar', 'scroll', 'mouse', 'kabel', 'wireless', 'bahasa', 'Indonesia', 'mouse', 'artik', '“tetikus”', 'bentuk', 'mouse', 'rupa', 'tikus', 'badan', 'gembung']\n",
      "Hasil lemma Jawaban Siswa :  ['mouse', 'komputer', 'perangkat', 'input', 'fungsi', 'kontrol', 'kursor', 'gui', 'antarmuka', 'guna', 'grafis', 'arah', 'pindah', 'pilih', 'teks', 'ikon', 'file', 'folder', 'layar', 'monitor']\n"
     ]
    }
   ],
   "source": [
    "lemmaKJ = []\n",
    "hasil_lemmaKJ = []\n",
    "for i in filterKJ :\n",
    "    lemmaKJ = analisis(i)\n",
    "    hasil_lemmaKJ.append(lemmaKJ[0][0])\n",
    "print(\"Hasil lemma Kunci Jawaban : \", hasil_lemmaKJ)\n",
    "\n",
    "lemmaJS = []\n",
    "hasil_lemmaJS = []\n",
    "for i in filterJS :\n",
    "    lemmaJS = analisis(i)\n",
    "    hasil_lemmaJS.append(lemmaJS[0][0])\n",
    "print(\"Hasil lemma Jawaban Siswa : \", hasil_lemmaJS)"
   ]
  },
  {
   "cell_type": "markdown",
   "metadata": {},
   "source": [
    "### Hasil Perbandingan Lemmaization dan Stemming"
   ]
  },
  {
   "cell_type": "code",
   "execution_count": 27,
   "metadata": {},
   "outputs": [
    {
     "name": "stdout",
     "output_type": "stream",
     "text": [
      "Kunci Jawaban\n",
      "Hasil Stem Kunci Jawaban :  ['mouse', 'perangkat', 'keras', 'komputer', 'fungsi', 'kendali', 'kursor', 'tampil', 'gui', 'graphical', 'user', 'interface', 'masuk', 'input', 'gera', 'kursor', 'tekan', 'tombol', 'click', 'menaikturunkan', 'tampil', 'layar', 'scroll', 'mouse', 'kabel', 'wireless', 'bahasa', 'indonesia', 'mouse', 'arti', 'tetikus', 'bentuk', 'mouse', 'rupa', 'tikus', 'badan', 'gembung']\n",
      "Hasil lemma Kunci Jawaban :  ['mouse', 'perangkat', 'keras', 'komputer', 'fungsi', 'kendali', 'kursor', 'tampil', 'gui', 'graphical', 'user', 'interface', 'masuk', 'input', 'gerak', 'kursor', 'tekan', 'tombol', 'click', 'naik turun', 'tampil', 'layar', 'scroll', 'mouse', 'kabel', 'wireless', 'bahasa', 'Indonesia', 'mouse', 'artik', '“tetikus”', 'bentuk', 'mouse', 'rupa', 'tikus', 'badan', 'gembung']\n",
      "\n",
      "\n"
     ]
    }
   ],
   "source": [
    "print(\"Kunci Jawaban\")\n",
    "print(\"Hasil Stem Kunci Jawaban : \", hasil_stemKJ)\n",
    "print(\"Hasil lemma Kunci Jawaban : \", hasil_lemmaKJ)\n",
    "print(\"\\n\")\n",
    "# print(\"Jawaban Siswa\")\n",
    "# print(\"Hasil Stem Jawaban Siswa : \", hasil_stemJS)\n",
    "# print(\"Hasil lemma Jawaban Siswa : \", hasil_lemmaJS)"
   ]
  },
  {
   "cell_type": "markdown",
   "metadata": {},
   "source": [
    "### TF-IDF"
   ]
  },
  {
   "cell_type": "markdown",
   "metadata": {},
   "source": [
    "#### Stemming"
   ]
  },
  {
   "cell_type": "code",
   "execution_count": 14,
   "metadata": {},
   "outputs": [],
   "source": [
    "import pandas as pd\n",
    "from sklearn.feature_extraction.text import TfidfVectorizer"
   ]
  },
  {
   "cell_type": "code",
   "execution_count": 15,
   "metadata": {},
   "outputs": [],
   "source": [
    "# def tfidf(KJ, JS):\n",
    "#     BoW_KJ = KJ\n",
    "#     BoW_JS = JS\n",
    "\n",
    "#     uniqueWords = set(BoW_KJ).union(set(BoW_JS))\n",
    "\n",
    "#     numOfWordsA = dict.fromkeys(uniqueWords, 0)\n",
    "#     for word in BoW_KJ:\n",
    "#         numOfWordsA[word] += 1\n",
    "#     numOfWordsB = dict.fromkeys(uniqueWords, 0)\n",
    "#     for word in BoW_JS:\n",
    "#         numOfWordsB[word] += 1\n",
    "\n",
    "#     tf = pd.DataFrame([numOfWordsA, numOfWordsB])\n",
    "#     print(tf)"
   ]
  },
  {
   "cell_type": "code",
   "execution_count": 16,
   "metadata": {},
   "outputs": [
    {
     "data": {
      "text/plain": [
       "{'antarmuka',\n",
       " 'arah',\n",
       " 'arti',\n",
       " 'badan',\n",
       " 'bahasa',\n",
       " 'bentuk',\n",
       " 'click',\n",
       " 'file',\n",
       " 'folder',\n",
       " 'fungsi',\n",
       " 'gembung',\n",
       " 'gera',\n",
       " 'grafis',\n",
       " 'graphical',\n",
       " 'gui',\n",
       " 'guna',\n",
       " 'ikon',\n",
       " 'indonesia',\n",
       " 'input',\n",
       " 'interface',\n",
       " 'kabel',\n",
       " 'kendali',\n",
       " 'keras',\n",
       " 'komputer',\n",
       " 'kontrol',\n",
       " 'kursor',\n",
       " 'layar',\n",
       " 'masuk',\n",
       " 'menaikturunkan',\n",
       " 'monitor',\n",
       " 'mouse',\n",
       " 'perangkat',\n",
       " 'pilih',\n",
       " 'pindah',\n",
       " 'rupa',\n",
       " 'scroll',\n",
       " 'tampil',\n",
       " 'tekan',\n",
       " 'teks',\n",
       " 'tetikus',\n",
       " 'tikus',\n",
       " 'tombol',\n",
       " 'user',\n",
       " 'wireless'}"
      ]
     },
     "execution_count": 16,
     "metadata": {},
     "output_type": "execute_result"
    }
   ],
   "source": [
    "BoW_StKJ = hasil_stemKJ\n",
    "BoW_StJS = hasil_stemJS\n",
    "\n",
    "uniqueWords = set(BoW_StKJ).union(set(BoW_StJS))\n",
    "uniqueWords"
   ]
  },
  {
   "cell_type": "code",
   "execution_count": 17,
   "metadata": {},
   "outputs": [
    {
     "data": {
      "text/html": [
       "<div>\n",
       "<style scoped>\n",
       "    .dataframe tbody tr th:only-of-type {\n",
       "        vertical-align: middle;\n",
       "    }\n",
       "\n",
       "    .dataframe tbody tr th {\n",
       "        vertical-align: top;\n",
       "    }\n",
       "\n",
       "    .dataframe thead th {\n",
       "        text-align: right;\n",
       "    }\n",
       "</style>\n",
       "<table border=\"1\" class=\"dataframe\">\n",
       "  <thead>\n",
       "    <tr style=\"text-align: right;\">\n",
       "      <th></th>\n",
       "      <th>kabel</th>\n",
       "      <th>click</th>\n",
       "      <th>scroll</th>\n",
       "      <th>kursor</th>\n",
       "      <th>gembung</th>\n",
       "      <th>file</th>\n",
       "      <th>fungsi</th>\n",
       "      <th>komputer</th>\n",
       "      <th>gera</th>\n",
       "      <th>tombol</th>\n",
       "      <th>...</th>\n",
       "      <th>wireless</th>\n",
       "      <th>input</th>\n",
       "      <th>gui</th>\n",
       "      <th>teks</th>\n",
       "      <th>guna</th>\n",
       "      <th>perangkat</th>\n",
       "      <th>layar</th>\n",
       "      <th>arah</th>\n",
       "      <th>pindah</th>\n",
       "      <th>keras</th>\n",
       "    </tr>\n",
       "  </thead>\n",
       "  <tbody>\n",
       "    <tr>\n",
       "      <th>0</th>\n",
       "      <td>1</td>\n",
       "      <td>1</td>\n",
       "      <td>1</td>\n",
       "      <td>2</td>\n",
       "      <td>1</td>\n",
       "      <td>0</td>\n",
       "      <td>1</td>\n",
       "      <td>1</td>\n",
       "      <td>1</td>\n",
       "      <td>1</td>\n",
       "      <td>...</td>\n",
       "      <td>1</td>\n",
       "      <td>1</td>\n",
       "      <td>1</td>\n",
       "      <td>0</td>\n",
       "      <td>0</td>\n",
       "      <td>1</td>\n",
       "      <td>1</td>\n",
       "      <td>0</td>\n",
       "      <td>0</td>\n",
       "      <td>1</td>\n",
       "    </tr>\n",
       "    <tr>\n",
       "      <th>1</th>\n",
       "      <td>0</td>\n",
       "      <td>0</td>\n",
       "      <td>0</td>\n",
       "      <td>1</td>\n",
       "      <td>0</td>\n",
       "      <td>1</td>\n",
       "      <td>1</td>\n",
       "      <td>1</td>\n",
       "      <td>0</td>\n",
       "      <td>0</td>\n",
       "      <td>...</td>\n",
       "      <td>0</td>\n",
       "      <td>1</td>\n",
       "      <td>1</td>\n",
       "      <td>1</td>\n",
       "      <td>1</td>\n",
       "      <td>1</td>\n",
       "      <td>1</td>\n",
       "      <td>1</td>\n",
       "      <td>1</td>\n",
       "      <td>0</td>\n",
       "    </tr>\n",
       "  </tbody>\n",
       "</table>\n",
       "<p>2 rows × 44 columns</p>\n",
       "</div>"
      ],
      "text/plain": [
       "   kabel  click  scroll  kursor  gembung  file  fungsi  komputer  gera  \\\n",
       "0      1      1       1       2        1     0       1         1     1   \n",
       "1      0      0       0       1        0     1       1         1     0   \n",
       "\n",
       "   tombol  ...  wireless  input  gui  teks  guna  perangkat  layar  arah  \\\n",
       "0       1  ...         1      1    1     0     0          1      1     0   \n",
       "1       0  ...         0      1    1     1     1          1      1     1   \n",
       "\n",
       "   pindah  keras  \n",
       "0       0      1  \n",
       "1       1      0  \n",
       "\n",
       "[2 rows x 44 columns]"
      ]
     },
     "execution_count": 17,
     "metadata": {},
     "output_type": "execute_result"
    }
   ],
   "source": [
    "numOfWordsA = dict.fromkeys(uniqueWords, 0)\n",
    "for word in BoW_StKJ:\n",
    "    numOfWordsA[word] += 1\n",
    "numOfWordsB = dict.fromkeys(uniqueWords, 0)\n",
    "for word in BoW_StJS:\n",
    "    numOfWordsB[word] += 1\n",
    "\n",
    "term = pd.DataFrame([numOfWordsA, numOfWordsB])\n",
    "term"
   ]
  },
  {
   "cell_type": "code",
   "execution_count": 18,
   "metadata": {},
   "outputs": [],
   "source": [
    "def computeTF(wordDict, bagOfWords):\n",
    "    tfDict = {}\n",
    "    bagOfWordsCount = len(bagOfWords)\n",
    "    for word, count in wordDict.items():\n",
    "        tfDict[word] = count / float(bagOfWordsCount)\n",
    "    return tfDict"
   ]
  },
  {
   "cell_type": "code",
   "execution_count": 19,
   "metadata": {},
   "outputs": [
    {
     "data": {
      "text/html": [
       "<div>\n",
       "<style scoped>\n",
       "    .dataframe tbody tr th:only-of-type {\n",
       "        vertical-align: middle;\n",
       "    }\n",
       "\n",
       "    .dataframe tbody tr th {\n",
       "        vertical-align: top;\n",
       "    }\n",
       "\n",
       "    .dataframe thead th {\n",
       "        text-align: right;\n",
       "    }\n",
       "</style>\n",
       "<table border=\"1\" class=\"dataframe\">\n",
       "  <thead>\n",
       "    <tr style=\"text-align: right;\">\n",
       "      <th></th>\n",
       "      <th>kabel</th>\n",
       "      <th>click</th>\n",
       "      <th>scroll</th>\n",
       "      <th>kursor</th>\n",
       "      <th>gembung</th>\n",
       "      <th>file</th>\n",
       "      <th>fungsi</th>\n",
       "      <th>komputer</th>\n",
       "      <th>gera</th>\n",
       "      <th>tombol</th>\n",
       "      <th>...</th>\n",
       "      <th>wireless</th>\n",
       "      <th>input</th>\n",
       "      <th>gui</th>\n",
       "      <th>teks</th>\n",
       "      <th>guna</th>\n",
       "      <th>perangkat</th>\n",
       "      <th>layar</th>\n",
       "      <th>arah</th>\n",
       "      <th>pindah</th>\n",
       "      <th>keras</th>\n",
       "    </tr>\n",
       "  </thead>\n",
       "  <tbody>\n",
       "    <tr>\n",
       "      <th>0</th>\n",
       "      <td>0.027027</td>\n",
       "      <td>0.027027</td>\n",
       "      <td>0.027027</td>\n",
       "      <td>0.054054</td>\n",
       "      <td>0.027027</td>\n",
       "      <td>0.00</td>\n",
       "      <td>0.027027</td>\n",
       "      <td>0.027027</td>\n",
       "      <td>0.027027</td>\n",
       "      <td>0.027027</td>\n",
       "      <td>...</td>\n",
       "      <td>0.027027</td>\n",
       "      <td>0.027027</td>\n",
       "      <td>0.027027</td>\n",
       "      <td>0.00</td>\n",
       "      <td>0.00</td>\n",
       "      <td>0.027027</td>\n",
       "      <td>0.027027</td>\n",
       "      <td>0.00</td>\n",
       "      <td>0.00</td>\n",
       "      <td>0.027027</td>\n",
       "    </tr>\n",
       "    <tr>\n",
       "      <th>1</th>\n",
       "      <td>0.000000</td>\n",
       "      <td>0.000000</td>\n",
       "      <td>0.000000</td>\n",
       "      <td>0.050000</td>\n",
       "      <td>0.000000</td>\n",
       "      <td>0.05</td>\n",
       "      <td>0.050000</td>\n",
       "      <td>0.050000</td>\n",
       "      <td>0.000000</td>\n",
       "      <td>0.000000</td>\n",
       "      <td>...</td>\n",
       "      <td>0.000000</td>\n",
       "      <td>0.050000</td>\n",
       "      <td>0.050000</td>\n",
       "      <td>0.05</td>\n",
       "      <td>0.05</td>\n",
       "      <td>0.050000</td>\n",
       "      <td>0.050000</td>\n",
       "      <td>0.05</td>\n",
       "      <td>0.05</td>\n",
       "      <td>0.000000</td>\n",
       "    </tr>\n",
       "  </tbody>\n",
       "</table>\n",
       "<p>2 rows × 44 columns</p>\n",
       "</div>"
      ],
      "text/plain": [
       "      kabel     click    scroll    kursor   gembung  file    fungsi  komputer  \\\n",
       "0  0.027027  0.027027  0.027027  0.054054  0.027027  0.00  0.027027  0.027027   \n",
       "1  0.000000  0.000000  0.000000  0.050000  0.000000  0.05  0.050000  0.050000   \n",
       "\n",
       "       gera    tombol  ...  wireless     input       gui  teks  guna  \\\n",
       "0  0.027027  0.027027  ...  0.027027  0.027027  0.027027  0.00  0.00   \n",
       "1  0.000000  0.000000  ...  0.000000  0.050000  0.050000  0.05  0.05   \n",
       "\n",
       "   perangkat     layar  arah  pindah     keras  \n",
       "0   0.027027  0.027027  0.00    0.00  0.027027  \n",
       "1   0.050000  0.050000  0.05    0.05  0.000000  \n",
       "\n",
       "[2 rows x 44 columns]"
      ]
     },
     "execution_count": 19,
     "metadata": {},
     "output_type": "execute_result"
    }
   ],
   "source": [
    "tfA = computeTF(numOfWordsA,BoW_StKJ)\n",
    "tfB = computeTF(numOfWordsB, BoW_StJS)\n",
    "\n",
    "tf = pd.DataFrame([tfA, tfB])\n",
    "tf"
   ]
  },
  {
   "cell_type": "code",
   "execution_count": 20,
   "metadata": {},
   "outputs": [],
   "source": [
    "def computeIDF(documents):\n",
    "    import math\n",
    "    N = len(documents)\n",
    "    \n",
    "    idfDict = dict.fromkeys(documents[0].keys(), 0)\n",
    "    for document in documents:\n",
    "        for word, val in document.items():\n",
    "            if val > 0:\n",
    "                idfDict[word] += 1\n",
    "    \n",
    "    for word, val in idfDict.items():\n",
    "        idfDict[word] = math.log(N / float(val))\n",
    "    return idfDict"
   ]
  },
  {
   "cell_type": "code",
   "execution_count": 21,
   "metadata": {},
   "outputs": [
    {
     "data": {
      "text/html": [
       "<div>\n",
       "<style scoped>\n",
       "    .dataframe tbody tr th:only-of-type {\n",
       "        vertical-align: middle;\n",
       "    }\n",
       "\n",
       "    .dataframe tbody tr th {\n",
       "        vertical-align: top;\n",
       "    }\n",
       "\n",
       "    .dataframe thead th {\n",
       "        text-align: right;\n",
       "    }\n",
       "</style>\n",
       "<table border=\"1\" class=\"dataframe\">\n",
       "  <thead>\n",
       "    <tr style=\"text-align: right;\">\n",
       "      <th></th>\n",
       "      <th>kabel</th>\n",
       "      <th>click</th>\n",
       "      <th>scroll</th>\n",
       "      <th>kursor</th>\n",
       "      <th>gembung</th>\n",
       "      <th>file</th>\n",
       "      <th>fungsi</th>\n",
       "      <th>komputer</th>\n",
       "      <th>gera</th>\n",
       "      <th>tombol</th>\n",
       "      <th>...</th>\n",
       "      <th>wireless</th>\n",
       "      <th>input</th>\n",
       "      <th>gui</th>\n",
       "      <th>teks</th>\n",
       "      <th>guna</th>\n",
       "      <th>perangkat</th>\n",
       "      <th>layar</th>\n",
       "      <th>arah</th>\n",
       "      <th>pindah</th>\n",
       "      <th>keras</th>\n",
       "    </tr>\n",
       "  </thead>\n",
       "  <tbody>\n",
       "    <tr>\n",
       "      <th>0</th>\n",
       "      <td>0.693147</td>\n",
       "      <td>0.693147</td>\n",
       "      <td>0.693147</td>\n",
       "      <td>0.0</td>\n",
       "      <td>0.693147</td>\n",
       "      <td>0.693147</td>\n",
       "      <td>0.0</td>\n",
       "      <td>0.0</td>\n",
       "      <td>0.693147</td>\n",
       "      <td>0.693147</td>\n",
       "      <td>...</td>\n",
       "      <td>0.693147</td>\n",
       "      <td>0.0</td>\n",
       "      <td>0.0</td>\n",
       "      <td>0.693147</td>\n",
       "      <td>0.693147</td>\n",
       "      <td>0.0</td>\n",
       "      <td>0.0</td>\n",
       "      <td>0.693147</td>\n",
       "      <td>0.693147</td>\n",
       "      <td>0.693147</td>\n",
       "    </tr>\n",
       "  </tbody>\n",
       "</table>\n",
       "<p>1 rows × 44 columns</p>\n",
       "</div>"
      ],
      "text/plain": [
       "      kabel     click    scroll  kursor   gembung      file  fungsi  komputer  \\\n",
       "0  0.693147  0.693147  0.693147     0.0  0.693147  0.693147     0.0       0.0   \n",
       "\n",
       "       gera    tombol  ...  wireless  input  gui      teks      guna  \\\n",
       "0  0.693147  0.693147  ...  0.693147    0.0  0.0  0.693147  0.693147   \n",
       "\n",
       "   perangkat  layar      arah    pindah     keras  \n",
       "0        0.0    0.0  0.693147  0.693147  0.693147  \n",
       "\n",
       "[1 rows x 44 columns]"
      ]
     },
     "execution_count": 21,
     "metadata": {},
     "output_type": "execute_result"
    }
   ],
   "source": [
    "idfs = computeIDF([numOfWordsA, numOfWordsB])\n",
    "idf = pd.DataFrame([idfs])\n",
    "idf"
   ]
  },
  {
   "cell_type": "code",
   "execution_count": 22,
   "metadata": {},
   "outputs": [],
   "source": [
    "def computeTFIDF(tfBagOfWords, idfs):\n",
    "    tfidf = {}\n",
    "    for word, val in tfBagOfWords.items():\n",
    "        tfidf[word] = val * idfs[word]\n",
    "    return tfidf"
   ]
  },
  {
   "cell_type": "code",
   "execution_count": 23,
   "metadata": {},
   "outputs": [
    {
     "data": {
      "text/html": [
       "<div>\n",
       "<style scoped>\n",
       "    .dataframe tbody tr th:only-of-type {\n",
       "        vertical-align: middle;\n",
       "    }\n",
       "\n",
       "    .dataframe tbody tr th {\n",
       "        vertical-align: top;\n",
       "    }\n",
       "\n",
       "    .dataframe thead th {\n",
       "        text-align: right;\n",
       "    }\n",
       "</style>\n",
       "<table border=\"1\" class=\"dataframe\">\n",
       "  <thead>\n",
       "    <tr style=\"text-align: right;\">\n",
       "      <th></th>\n",
       "      <th>kabel</th>\n",
       "      <th>click</th>\n",
       "      <th>scroll</th>\n",
       "      <th>kursor</th>\n",
       "      <th>gembung</th>\n",
       "      <th>file</th>\n",
       "      <th>fungsi</th>\n",
       "      <th>komputer</th>\n",
       "      <th>gera</th>\n",
       "      <th>tombol</th>\n",
       "      <th>...</th>\n",
       "      <th>wireless</th>\n",
       "      <th>input</th>\n",
       "      <th>gui</th>\n",
       "      <th>teks</th>\n",
       "      <th>guna</th>\n",
       "      <th>perangkat</th>\n",
       "      <th>layar</th>\n",
       "      <th>arah</th>\n",
       "      <th>pindah</th>\n",
       "      <th>keras</th>\n",
       "    </tr>\n",
       "  </thead>\n",
       "  <tbody>\n",
       "    <tr>\n",
       "      <th>0</th>\n",
       "      <td>0.018734</td>\n",
       "      <td>0.018734</td>\n",
       "      <td>0.018734</td>\n",
       "      <td>0.0</td>\n",
       "      <td>0.018734</td>\n",
       "      <td>0.000000</td>\n",
       "      <td>0.0</td>\n",
       "      <td>0.0</td>\n",
       "      <td>0.018734</td>\n",
       "      <td>0.018734</td>\n",
       "      <td>...</td>\n",
       "      <td>0.018734</td>\n",
       "      <td>0.0</td>\n",
       "      <td>0.0</td>\n",
       "      <td>0.000000</td>\n",
       "      <td>0.000000</td>\n",
       "      <td>0.0</td>\n",
       "      <td>0.0</td>\n",
       "      <td>0.000000</td>\n",
       "      <td>0.000000</td>\n",
       "      <td>0.018734</td>\n",
       "    </tr>\n",
       "    <tr>\n",
       "      <th>1</th>\n",
       "      <td>0.000000</td>\n",
       "      <td>0.000000</td>\n",
       "      <td>0.000000</td>\n",
       "      <td>0.0</td>\n",
       "      <td>0.000000</td>\n",
       "      <td>0.034657</td>\n",
       "      <td>0.0</td>\n",
       "      <td>0.0</td>\n",
       "      <td>0.000000</td>\n",
       "      <td>0.000000</td>\n",
       "      <td>...</td>\n",
       "      <td>0.000000</td>\n",
       "      <td>0.0</td>\n",
       "      <td>0.0</td>\n",
       "      <td>0.034657</td>\n",
       "      <td>0.034657</td>\n",
       "      <td>0.0</td>\n",
       "      <td>0.0</td>\n",
       "      <td>0.034657</td>\n",
       "      <td>0.034657</td>\n",
       "      <td>0.000000</td>\n",
       "    </tr>\n",
       "  </tbody>\n",
       "</table>\n",
       "<p>2 rows × 44 columns</p>\n",
       "</div>"
      ],
      "text/plain": [
       "      kabel     click    scroll  kursor   gembung      file  fungsi  komputer  \\\n",
       "0  0.018734  0.018734  0.018734     0.0  0.018734  0.000000     0.0       0.0   \n",
       "1  0.000000  0.000000  0.000000     0.0  0.000000  0.034657     0.0       0.0   \n",
       "\n",
       "       gera    tombol  ...  wireless  input  gui      teks      guna  \\\n",
       "0  0.018734  0.018734  ...  0.018734    0.0  0.0  0.000000  0.000000   \n",
       "1  0.000000  0.000000  ...  0.000000    0.0  0.0  0.034657  0.034657   \n",
       "\n",
       "   perangkat  layar      arah    pindah     keras  \n",
       "0        0.0    0.0  0.000000  0.000000  0.018734  \n",
       "1        0.0    0.0  0.034657  0.034657  0.000000  \n",
       "\n",
       "[2 rows x 44 columns]"
      ]
     },
     "execution_count": 23,
     "metadata": {},
     "output_type": "execute_result"
    }
   ],
   "source": [
    "tfidfA = computeTFIDF(tfA, idfs)\n",
    "tfidfB = computeTFIDF(tfB, idfs)\n",
    "tfidf = pd.DataFrame([tfidfA, tfidfB])\n",
    "tfidf"
   ]
  },
  {
   "cell_type": "code",
   "execution_count": 24,
   "metadata": {},
   "outputs": [
    {
     "name": "stderr",
     "output_type": "stream",
     "text": [
      "c:\\Users\\ACER\\AppData\\Local\\Programs\\Python\\Python39\\lib\\site-packages\\sklearn\\utils\\deprecation.py:87: FutureWarning: Function get_feature_names is deprecated; get_feature_names is deprecated in 1.0 and will be removed in 1.2. Please use get_feature_names_out instead.\n",
      "  warnings.warn(msg, category=FutureWarning)\n"
     ]
    },
    {
     "data": {
      "text/html": [
       "<div>\n",
       "<style scoped>\n",
       "    .dataframe tbody tr th:only-of-type {\n",
       "        vertical-align: middle;\n",
       "    }\n",
       "\n",
       "    .dataframe tbody tr th {\n",
       "        vertical-align: top;\n",
       "    }\n",
       "\n",
       "    .dataframe thead th {\n",
       "        text-align: right;\n",
       "    }\n",
       "</style>\n",
       "<table border=\"1\" class=\"dataframe\">\n",
       "  <thead>\n",
       "    <tr style=\"text-align: right;\">\n",
       "      <th></th>\n",
       "      <th>ada</th>\n",
       "      <th>adalah</th>\n",
       "      <th>anda</th>\n",
       "      <th>antarmuka</th>\n",
       "      <th>atau</th>\n",
       "      <th>badan</th>\n",
       "      <th>bagian</th>\n",
       "      <th>bahasa</th>\n",
       "      <th>bentuk</th>\n",
       "      <th>berfungsi</th>\n",
       "      <th>...</th>\n",
       "      <th>teks</th>\n",
       "      <th>tetikus</th>\n",
       "      <th>tidak</th>\n",
       "      <th>tikus</th>\n",
       "      <th>tombol</th>\n",
       "      <th>turunkan</th>\n",
       "      <th>untuk</th>\n",
       "      <th>user</th>\n",
       "      <th>wireless</th>\n",
       "      <th>yang</th>\n",
       "    </tr>\n",
       "  </thead>\n",
       "  <tbody>\n",
       "    <tr>\n",
       "      <th>0</th>\n",
       "      <td>0.120599</td>\n",
       "      <td>0.000000</td>\n",
       "      <td>0.000000</td>\n",
       "      <td>0.000000</td>\n",
       "      <td>0.120599</td>\n",
       "      <td>0.120599</td>\n",
       "      <td>0.120599</td>\n",
       "      <td>0.120599</td>\n",
       "      <td>0.120599</td>\n",
       "      <td>0.085807</td>\n",
       "      <td>...</td>\n",
       "      <td>0.000000</td>\n",
       "      <td>0.120599</td>\n",
       "      <td>0.120599</td>\n",
       "      <td>0.120599</td>\n",
       "      <td>0.120599</td>\n",
       "      <td>0.120599</td>\n",
       "      <td>0.085807</td>\n",
       "      <td>0.120599</td>\n",
       "      <td>0.120599</td>\n",
       "      <td>0.257422</td>\n",
       "    </tr>\n",
       "    <tr>\n",
       "      <th>1</th>\n",
       "      <td>0.000000</td>\n",
       "      <td>0.205874</td>\n",
       "      <td>0.205874</td>\n",
       "      <td>0.205874</td>\n",
       "      <td>0.000000</td>\n",
       "      <td>0.000000</td>\n",
       "      <td>0.000000</td>\n",
       "      <td>0.000000</td>\n",
       "      <td>0.000000</td>\n",
       "      <td>0.146481</td>\n",
       "      <td>...</td>\n",
       "      <td>0.205874</td>\n",
       "      <td>0.000000</td>\n",
       "      <td>0.000000</td>\n",
       "      <td>0.000000</td>\n",
       "      <td>0.000000</td>\n",
       "      <td>0.000000</td>\n",
       "      <td>0.146481</td>\n",
       "      <td>0.000000</td>\n",
       "      <td>0.000000</td>\n",
       "      <td>0.146481</td>\n",
       "    </tr>\n",
       "  </tbody>\n",
       "</table>\n",
       "<p>2 rows × 70 columns</p>\n",
       "</div>"
      ],
      "text/plain": [
       "        ada    adalah      anda  antarmuka      atau     badan    bagian  \\\n",
       "0  0.120599  0.000000  0.000000   0.000000  0.120599  0.120599  0.120599   \n",
       "1  0.000000  0.205874  0.205874   0.205874  0.000000  0.000000  0.000000   \n",
       "\n",
       "     bahasa    bentuk  berfungsi  ...      teks   tetikus     tidak     tikus  \\\n",
       "0  0.120599  0.120599   0.085807  ...  0.000000  0.120599  0.120599  0.120599   \n",
       "1  0.000000  0.000000   0.146481  ...  0.205874  0.000000  0.000000  0.000000   \n",
       "\n",
       "     tombol  turunkan     untuk      user  wireless      yang  \n",
       "0  0.120599  0.120599  0.085807  0.120599  0.120599  0.257422  \n",
       "1  0.000000  0.000000  0.146481  0.000000  0.000000  0.146481  \n",
       "\n",
       "[2 rows x 70 columns]"
      ]
     },
     "execution_count": 24,
     "metadata": {},
     "output_type": "execute_result"
    }
   ],
   "source": [
    "vectorizer = TfidfVectorizer()\n",
    "vectors = vectorizer.fit_transform([KJ, jawaban])\n",
    "feature_names = vectorizer.get_feature_names()\n",
    "dense = vectors.todense()\n",
    "denselist = dense.tolist()\n",
    "df = pd.DataFrame(denselist, columns=feature_names)\n",
    "df"
   ]
  },
  {
   "cell_type": "markdown",
   "metadata": {},
   "source": [
    "### Cosine Similarity"
   ]
  },
  {
   "cell_type": "code",
   "execution_count": 25,
   "metadata": {},
   "outputs": [
    {
     "name": "stdout",
     "output_type": "stream",
     "text": [
      "[0.390548 0.277878 0.277878 0.277878 0.390548 0.277878 0.277878 0.277878\n",
      " 0.277878 0.277878 0.277878]\n",
      "[0.       0.333333 0.333333 0.333333 0.       0.333333 0.333333 0.333333\n",
      " 0.333333 0.333333 0.333333]\n"
     ]
    },
    {
     "data": {
      "text/plain": [
       "0.83363353042937"
      ]
     },
     "execution_count": 25,
     "metadata": {},
     "output_type": "execute_result"
    }
   ],
   "source": [
    "import numpy as np\n",
    "from numpy.linalg import norm\n",
    "\n",
    "# np = tfidf.to_numpy()\n",
    "stKJ = np.array([0.390548, 0.277878, 0.277878, 0.277878, 0.390548, 0.277878, 0.277878, 0.277878, 0.277878, 0.277878, 0.277878])\n",
    "stJS = np.array([0.000000, 0.333333, 0.333333, 0.333333, 0.000000, 0.333333, 0.333333, 0.333333, 0.333333, 0.333333, 0.333333])\n",
    "print(stKJ)\n",
    "print(stJS)\n",
    "\n",
    "cosine = np.dot(stKJ,stJS)/(norm(stKJ)*norm(stJS))\n",
    "cosine"
   ]
  }
 ],
 "metadata": {
  "kernelspec": {
   "display_name": "Python 3.9.0rc2 64-bit",
   "language": "python",
   "name": "python3"
  },
  "language_info": {
   "codemirror_mode": {
    "name": "ipython",
    "version": 3
   },
   "file_extension": ".py",
   "mimetype": "text/x-python",
   "name": "python",
   "nbconvert_exporter": "python",
   "pygments_lexer": "ipython3",
   "version": "3.9.0"
  },
  "orig_nbformat": 4,
  "vscode": {
   "interpreter": {
    "hash": "50c5c2b6e05db9fe8b3433ad8e6dc52eedfaade324407e06c6799762d580ed33"
   }
  }
 },
 "nbformat": 4,
 "nbformat_minor": 2
}
